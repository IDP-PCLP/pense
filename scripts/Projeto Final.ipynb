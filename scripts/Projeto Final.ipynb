{
 "cells": [
  {
   "cell_type": "markdown",
   "id": "8bc08891",
   "metadata": {},
   "source": [
    "# Projeto Final\n",
    "\n",
    "### Instruções\n",
    "\n",
    "O projeto final deve ser um script ou um caderno Jupyter Python que realize uma raspagem de dados de uma página da internet. \n",
    "\n",
    "Os dados raspados devem ser atribuídos a um DataFrame. \n",
    "\n",
    "Pelo menos duas colunas devem ser apresentadas, uma quantitativa e uma categorizada.\n",
    "\n",
    "O trabalho final será avaliado de acordo com as seguintes diretrizes:\n",
    "\n",
    "- Plágio\n",
    "\n",
    "Trabalhos em que o texto ou código foi retirado da internet ou \n",
    "compartilhado entre grupos serão anulados. Um serviço de checagem será utilizado.\n",
    "\n",
    "- Português (1 ponto)\n",
    "\n",
    "O texto deve ser escrito em português formal, de forma impessoal. Erros de português podem acarretar em até um ponto de penalidade.\n",
    "\n",
    "- Metodologia (1 ponto)\n",
    "\n",
    "Uma metodologia correta para a solução da tarefa deve ser apresentada. Cada etapa do projeto deve ser apresentada na metodologia, incluindo a limpeza do conjunto de dados. Erros metodológicos podem acarretar em até um ponto de penalidade.\n",
    "\n",
    "- Resultados e Conclusão (1 ponto)-\n",
    "\n",
    "Resultados obtidos na seção de metodologia devem ser analisados nas seções de Resultados e Conclusão. É nesse momento que a habilidade crítica deve ser exercida para apresentar as contradições e correlações obtidas. \n"
   ]
  },
  {
   "cell_type": "code",
   "execution_count": null,
   "id": "799d9ce6",
   "metadata": {},
   "outputs": [],
   "source": []
  }
 ],
 "metadata": {
  "kernelspec": {
   "display_name": "Python 3 (ipykernel)",
   "language": "python",
   "name": "python3"
  },
  "language_info": {
   "codemirror_mode": {
    "name": "ipython",
    "version": 3
   },
   "file_extension": ".py",
   "mimetype": "text/x-python",
   "name": "python",
   "nbconvert_exporter": "python",
   "pygments_lexer": "ipython3",
   "version": "3.9.7"
  }
 },
 "nbformat": 4,
 "nbformat_minor": 5
}
